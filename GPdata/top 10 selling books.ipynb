{
 "cells": [
  {
   "cell_type": "code",
   "execution_count": 53,
   "id": "f70a4025",
   "metadata": {},
   "outputs": [],
   "source": [
    "#import lib\n",
    "\n",
    "import numpy as np\n",
    "import pandas as pd\n",
    "import matplotlib.pyplot as plt"
   ]
  },
  {
   "cell_type": "code",
   "execution_count": 4,
   "id": "762a155c",
   "metadata": {},
   "outputs": [
    {
     "data": {
      "text/html": [
       "<div>\n",
       "<style scoped>\n",
       "    .dataframe tbody tr th:only-of-type {\n",
       "        vertical-align: middle;\n",
       "    }\n",
       "\n",
       "    .dataframe tbody tr th {\n",
       "        vertical-align: top;\n",
       "    }\n",
       "\n",
       "    .dataframe thead th {\n",
       "        text-align: right;\n",
       "    }\n",
       "</style>\n",
       "<table border=\"1\" class=\"dataframe\">\n",
       "  <thead>\n",
       "    <tr style=\"text-align: right;\">\n",
       "      <th></th>\n",
       "      <th>Order Number</th>\n",
       "      <th>Order Status</th>\n",
       "      <th>Book Name</th>\n",
       "      <th>Order Date &amp; Time</th>\n",
       "      <th>City</th>\n",
       "      <th>Payment Method</th>\n",
       "      <th>Total items</th>\n",
       "      <th>Total weight (grams)</th>\n",
       "    </tr>\n",
       "  </thead>\n",
       "  <tbody>\n",
       "    <tr>\n",
       "      <th>0</th>\n",
       "      <td>307</td>\n",
       "      <td>Completed</td>\n",
       "      <td>Bitcoin Blockchain aur Crypto Currency - FREE ...</td>\n",
       "      <td>10/3/2019 15:03</td>\n",
       "      <td>faisalabad</td>\n",
       "      <td>NaN</td>\n",
       "      <td>2</td>\n",
       "      <td>200.0</td>\n",
       "    </tr>\n",
       "    <tr>\n",
       "      <th>1</th>\n",
       "      <td>308</td>\n",
       "      <td>Completed</td>\n",
       "      <td>Kaggle for Begginers</td>\n",
       "      <td>10/3/2019 15:54</td>\n",
       "      <td>Rawalpindi</td>\n",
       "      <td>Cash on Delivery (COD)</td>\n",
       "      <td>1</td>\n",
       "      <td>200.0</td>\n",
       "    </tr>\n",
       "    <tr>\n",
       "      <th>2</th>\n",
       "      <td>309</td>\n",
       "      <td>Completed</td>\n",
       "      <td>Kaggle for Begginers/Bitcoin Blockchain aur Cr...</td>\n",
       "      <td>10/3/2019 16:09</td>\n",
       "      <td>Hyderabad</td>\n",
       "      <td>Cash on Delivery (COD)</td>\n",
       "      <td>2</td>\n",
       "      <td>200.0</td>\n",
       "    </tr>\n",
       "    <tr>\n",
       "      <th>3</th>\n",
       "      <td>310</td>\n",
       "      <td>Cancelled</td>\n",
       "      <td>Kaggle for Begginers</td>\n",
       "      <td>10/3/2019 16:42</td>\n",
       "      <td>Rawalpindi</td>\n",
       "      <td>Cash on Delivery (COD)</td>\n",
       "      <td>1</td>\n",
       "      <td>200.0</td>\n",
       "    </tr>\n",
       "    <tr>\n",
       "      <th>4</th>\n",
       "      <td>311</td>\n",
       "      <td>Completed</td>\n",
       "      <td>Bit Coin Block Chain aur Crypto Currency بٹ کو...</td>\n",
       "      <td>10/3/2019 16:44</td>\n",
       "      <td>Karachi</td>\n",
       "      <td>Cash on Delivery (COD)</td>\n",
       "      <td>1</td>\n",
       "      <td>200.0</td>\n",
       "    </tr>\n",
       "  </tbody>\n",
       "</table>\n",
       "</div>"
      ],
      "text/plain": [
       "   Order Number Order Status  \\\n",
       "0           307    Completed   \n",
       "1           308    Completed   \n",
       "2           309    Completed   \n",
       "3           310    Cancelled   \n",
       "4           311    Completed   \n",
       "\n",
       "                                           Book Name Order Date & Time  \\\n",
       "0  Bitcoin Blockchain aur Crypto Currency - FREE ...   10/3/2019 15:03   \n",
       "1                               Kaggle for Begginers   10/3/2019 15:54   \n",
       "2  Kaggle for Begginers/Bitcoin Blockchain aur Cr...   10/3/2019 16:09   \n",
       "3                               Kaggle for Begginers   10/3/2019 16:42   \n",
       "4  Bit Coin Block Chain aur Crypto Currency بٹ کو...   10/3/2019 16:44   \n",
       "\n",
       "         City          Payment Method  Total items  Total weight (grams)  \n",
       "0  faisalabad                     NaN            2                 200.0  \n",
       "1  Rawalpindi  Cash on Delivery (COD)            1                 200.0  \n",
       "2   Hyderabad  Cash on Delivery (COD)            2                 200.0  \n",
       "3  Rawalpindi  Cash on Delivery (COD)            1                 200.0  \n",
       "4    Karachi   Cash on Delivery (COD)            1                 200.0  "
      ]
     },
     "execution_count": 4,
     "metadata": {},
     "output_type": "execute_result"
    }
   ],
   "source": [
    "#load data set\n",
    "\n",
    "df = pd.read_csv('data/GP Orders - 5.csv')\n",
    "df.head()"
   ]
  },
  {
   "cell_type": "code",
   "execution_count": 15,
   "id": "ba8ec7be",
   "metadata": {},
   "outputs": [
    {
     "name": "stdout",
     "output_type": "stream",
     "text": [
      "(19239, 8)\n",
      "There are 19239 rows and 8 columns\n"
     ]
    }
   ],
   "source": [
    "nRows,nCol=df.shape\n",
    "print(f'There are {nRows} rows and {nCol} columns')"
   ]
  },
  {
   "cell_type": "code",
   "execution_count": 16,
   "id": "7648ce19",
   "metadata": {},
   "outputs": [
    {
     "data": {
      "text/html": [
       "<div>\n",
       "<style scoped>\n",
       "    .dataframe tbody tr th:only-of-type {\n",
       "        vertical-align: middle;\n",
       "    }\n",
       "\n",
       "    .dataframe tbody tr th {\n",
       "        vertical-align: top;\n",
       "    }\n",
       "\n",
       "    .dataframe thead th {\n",
       "        text-align: right;\n",
       "    }\n",
       "</style>\n",
       "<table border=\"1\" class=\"dataframe\">\n",
       "  <thead>\n",
       "    <tr style=\"text-align: right;\">\n",
       "      <th></th>\n",
       "      <th>Order_Number</th>\n",
       "      <th>Order_Status</th>\n",
       "      <th>Book_Name</th>\n",
       "      <th>Order_Date</th>\n",
       "      <th>Billing_City</th>\n",
       "      <th>Payment_Method</th>\n",
       "      <th>Total_Items</th>\n",
       "      <th>Total_Weight</th>\n",
       "    </tr>\n",
       "  </thead>\n",
       "  <tbody>\n",
       "    <tr>\n",
       "      <th>0</th>\n",
       "      <td>307</td>\n",
       "      <td>Completed</td>\n",
       "      <td>Bitcoin Blockchain aur Crypto Currency - FREE ...</td>\n",
       "      <td>10/3/2019 15:03</td>\n",
       "      <td>faisalabad</td>\n",
       "      <td>NaN</td>\n",
       "      <td>2</td>\n",
       "      <td>200.0</td>\n",
       "    </tr>\n",
       "    <tr>\n",
       "      <th>1</th>\n",
       "      <td>308</td>\n",
       "      <td>Completed</td>\n",
       "      <td>Kaggle for Begginers</td>\n",
       "      <td>10/3/2019 15:54</td>\n",
       "      <td>Rawalpindi</td>\n",
       "      <td>Cash on Delivery (COD)</td>\n",
       "      <td>1</td>\n",
       "      <td>200.0</td>\n",
       "    </tr>\n",
       "    <tr>\n",
       "      <th>2</th>\n",
       "      <td>309</td>\n",
       "      <td>Completed</td>\n",
       "      <td>Kaggle for Begginers/Bitcoin Blockchain aur Cr...</td>\n",
       "      <td>10/3/2019 16:09</td>\n",
       "      <td>Hyderabad</td>\n",
       "      <td>Cash on Delivery (COD)</td>\n",
       "      <td>2</td>\n",
       "      <td>200.0</td>\n",
       "    </tr>\n",
       "    <tr>\n",
       "      <th>3</th>\n",
       "      <td>310</td>\n",
       "      <td>Cancelled</td>\n",
       "      <td>Kaggle for Begginers</td>\n",
       "      <td>10/3/2019 16:42</td>\n",
       "      <td>Rawalpindi</td>\n",
       "      <td>Cash on Delivery (COD)</td>\n",
       "      <td>1</td>\n",
       "      <td>200.0</td>\n",
       "    </tr>\n",
       "    <tr>\n",
       "      <th>4</th>\n",
       "      <td>311</td>\n",
       "      <td>Completed</td>\n",
       "      <td>Bit Coin Block Chain aur Crypto Currency بٹ کو...</td>\n",
       "      <td>10/3/2019 16:44</td>\n",
       "      <td>Karachi</td>\n",
       "      <td>Cash on Delivery (COD)</td>\n",
       "      <td>1</td>\n",
       "      <td>200.0</td>\n",
       "    </tr>\n",
       "  </tbody>\n",
       "</table>\n",
       "</div>"
      ],
      "text/plain": [
       "   Order_Number Order_Status  \\\n",
       "0           307    Completed   \n",
       "1           308    Completed   \n",
       "2           309    Completed   \n",
       "3           310    Cancelled   \n",
       "4           311    Completed   \n",
       "\n",
       "                                           Book_Name       Order_Date  \\\n",
       "0  Bitcoin Blockchain aur Crypto Currency - FREE ...  10/3/2019 15:03   \n",
       "1                               Kaggle for Begginers  10/3/2019 15:54   \n",
       "2  Kaggle for Begginers/Bitcoin Blockchain aur Cr...  10/3/2019 16:09   \n",
       "3                               Kaggle for Begginers  10/3/2019 16:42   \n",
       "4  Bit Coin Block Chain aur Crypto Currency بٹ کو...  10/3/2019 16:44   \n",
       "\n",
       "  Billing_City          Payment_Method  Total_Items  Total_Weight  \n",
       "0   faisalabad                     NaN            2         200.0  \n",
       "1   Rawalpindi  Cash on Delivery (COD)            1         200.0  \n",
       "2    Hyderabad  Cash on Delivery (COD)            2         200.0  \n",
       "3   Rawalpindi  Cash on Delivery (COD)            1         200.0  \n",
       "4     Karachi   Cash on Delivery (COD)            1         200.0  "
      ]
     },
     "execution_count": 16,
     "metadata": {},
     "output_type": "execute_result"
    }
   ],
   "source": [
    "#renaming col names and removeing space\n",
    "\n",
    "df = df.rename(columns={'Order Number': 'Order_Number',\"Order Status\":\"Order_Status\", \"Book Name\":\"Book_Name\",\"Order Date & Time\":\"Order_Date\",\"City\":\"Billing_City\", \"Payment Method\":\"Payment_Method\", \"Total items\":\"Total_Items\", \"Total weight (grams)\": \"Total_Weight\"})\n",
    "df.head()"
   ]
  },
  {
   "cell_type": "code",
   "execution_count": 17,
   "id": "593cf690",
   "metadata": {},
   "outputs": [
    {
     "data": {
      "text/plain": [
       "Order_Number       0\n",
       "Order_Status       0\n",
       "Book_Name          2\n",
       "Order_Date         0\n",
       "Billing_City       1\n",
       "Payment_Method    10\n",
       "Total_Items        0\n",
       "Total_Weight       0\n",
       "dtype: int64"
      ]
     },
     "execution_count": 17,
     "metadata": {},
     "output_type": "execute_result"
    }
   ],
   "source": [
    "#checking is null\n",
    "\n",
    "df.isnull().sum()"
   ]
  },
  {
   "cell_type": "code",
   "execution_count": 18,
   "id": "3abc683f",
   "metadata": {},
   "outputs": [],
   "source": [
    "df.dropna(inplace = True)"
   ]
  },
  {
   "cell_type": "code",
   "execution_count": 19,
   "id": "d0c5b860",
   "metadata": {},
   "outputs": [
    {
     "data": {
      "text/plain": [
       "Order_Number      0\n",
       "Order_Status      0\n",
       "Book_Name         0\n",
       "Order_Date        0\n",
       "Billing_City      0\n",
       "Payment_Method    0\n",
       "Total_Items       0\n",
       "Total_Weight      0\n",
       "dtype: int64"
      ]
     },
     "execution_count": 19,
     "metadata": {},
     "output_type": "execute_result"
    }
   ],
   "source": [
    "df.isnull().sum()"
   ]
  },
  {
   "cell_type": "code",
   "execution_count": 21,
   "id": "252de4e2",
   "metadata": {},
   "outputs": [
    {
     "data": {
      "text/plain": [
       "(19226, 8)"
      ]
     },
     "execution_count": 21,
     "metadata": {},
     "output_type": "execute_result"
    }
   ],
   "source": [
    "df.shape"
   ]
  },
  {
   "cell_type": "code",
   "execution_count": 22,
   "id": "c45e8149",
   "metadata": {},
   "outputs": [
    {
     "data": {
      "text/plain": [
       "array(['Completed', 'Cancelled', 'Returned'], dtype=object)"
      ]
     },
     "execution_count": 22,
     "metadata": {},
     "output_type": "execute_result"
    }
   ],
   "source": [
    "df.Order_Status.unique()"
   ]
  },
  {
   "cell_type": "code",
   "execution_count": 24,
   "id": "f5b236a4",
   "metadata": {},
   "outputs": [
    {
     "data": {
      "text/plain": [
       "Completed    17937\n",
       "Returned      1140\n",
       "Cancelled      149\n",
       "Name: Order_Status, dtype: int64"
      ]
     },
     "execution_count": 24,
     "metadata": {},
     "output_type": "execute_result"
    }
   ],
   "source": [
    "df.Order_Status.value_counts()"
   ]
  },
  {
   "cell_type": "code",
   "execution_count": 35,
   "id": "2a109e09",
   "metadata": {},
   "outputs": [
    {
     "data": {
      "image/png": "[encoded data removed]",
      "text/plain": [
       "<Figure size 1008x360 with 1 Axes>"
      ]
     },
     "metadata": {
      "needs_background": "light"
     },
     "output_type": "display_data"
    }
   ],
   "source": [
    "# Set the width and height of the figure\n",
    "plt.figure(figsize=(14,5))\n",
    "histogram= df.Order_Status.hist()\n",
    "\n",
    "# Rotate the x-labels by 30 degrees, and keep the text aligned horizontally\n",
    "plt.xticks(rotation=30, horizontalalignment=\"center\")\n",
    "plt.title(\"NO. of Orders vs Order Status\")\n",
    "plt.xlabel(\"Order Status\")\n",
    "plt.ylabel(\"Number of Orders\")\n",
    "plt.show()"
   ]
  },
  {
   "cell_type": "code",
   "execution_count": 52,
   "id": "765f672b",
   "metadata": {},
   "outputs": [
    {
     "name": "stdout",
     "output_type": "stream",
     "text": [
      "انٹرنیٹ سے پیسہ کمائیں                    2187\n",
      "Python Programming                        1436\n",
      "Product Management                        1009\n",
      "Blockchain, Cryptocurrency And Bitcoin     957\n",
      "Justju ka safar-1                          873\n",
      "Name: Book_Name, dtype: int64\n"
     ]
    }
   ],
   "source": [
    "top_selling_books = df[df['Order_Status']=='Completed']['Book_Name'].value_counts()\n",
    "print(top_selling_books.head())"
   ]
  },
  {
   "cell_type": "code",
   "execution_count": 49,
   "id": "650ee809",
   "metadata": {},
   "outputs": [
    {
     "data": {
      "image/png": "[encoded data removed]",
      "text/plain": [
       "<Figure size 1008x360 with 1 Axes>"
      ]
     },
     "metadata": {},
     "output_type": "display_data"
    }
   ],
   "source": [
    "plt.figure(figsize=(14,5))\n",
    "plt.pie(top_selling_books[:10])\n",
    "\n",
    "# Rotate the x-labels by 30 degrees, and keep the text aligned horizontally\n",
    "#plt.xticks(rotation=30, horizontalalignment=\"center\")\n",
    "plt.title(\"10 Top Selling Books\")\n",
    "#plt.xlabel(\"Books\")\n",
    "#plt.ylabel(\"Count\")\n",
    "plt.show()"
   ]
  },
  {
   "cell_type": "code",
   "execution_count": null,
   "id": "66172e05",
   "metadata": {},
   "outputs": [],
   "source": []
  }
 ],
 "metadata": {
  "kernelspec": {
   "display_name": "Python 3",
   "language": "python",
   "name": "python3"
  },
  "language_info": {
   "codemirror_mode": {
    "name": "ipython",
    "version": 3
   },
   "file_extension": ".py",
   "mimetype": "text/x-python",
   "name": "python",
   "nbconvert_exporter": "python",
   "pygments_lexer": "ipython3",
   "version": "3.8.8"
  }
 },
 "nbformat": 4,
 "nbformat_minor": 5
}
