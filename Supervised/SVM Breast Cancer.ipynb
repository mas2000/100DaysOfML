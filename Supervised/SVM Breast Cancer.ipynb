{
 "cells": [
  {
   "cell_type": "code",
   "execution_count": 1,
   "id": "c029fcd7",
   "metadata": {},
   "outputs": [],
   "source": [
    "from sklearn import datasets\n",
    "from sklearn.model_selection import train_test_split\n",
    "from sklearn import svm \n",
    "from sklearn import metrics\n",
    "import pandas as pd"
   ]
  },
  {
   "cell_type": "code",
   "execution_count": 2,
   "id": "b9bd1a34",
   "metadata": {},
   "outputs": [],
   "source": [
    "cancer_data = datasets.load_breast_cancer()"
   ]
  },
  {
   "cell_type": "code",
   "execution_count": 4,
   "id": "707cc5bf",
   "metadata": {},
   "outputs": [],
   "source": [
    "x = cancer_data.data\n",
    "y = cancer_data.target\n",
    "\n",
    "x_test, x_train, y_test, y_train = train_test_split(cancer_data.data, cancer_data.target, test_size = 0.2 random_state = 209)"
   ]
  },
  {
   "cell_type": "code",
   "execution_count": 7,
   "id": "2180f69e",
   "metadata": {},
   "outputs": [],
   "source": [
    "cls = svm.SVC(kernel=\"linear\")"
   ]
  },
  {
   "cell_type": "code",
   "execution_count": 8,
   "id": "c733efa6",
   "metadata": {},
   "outputs": [
    {
     "data": {
      "text/plain": [
       "SVC(kernel='linear')"
      ]
     },
     "execution_count": 8,
     "metadata": {},
     "output_type": "execute_result"
    }
   ],
   "source": [
    "cls.fit(x_train, y_train)"
   ]
  },
  {
   "cell_type": "code",
   "execution_count": 9,
   "id": "be8ca2b2",
   "metadata": {},
   "outputs": [],
   "source": [
    "pred = cls.predict(x_test)"
   ]
  },
  {
   "cell_type": "code",
   "execution_count": 11,
   "id": "260a4dc9",
   "metadata": {},
   "outputs": [
    {
     "name": "stdout",
     "output_type": "stream",
     "text": [
      "accuracy:  0.949748743718593\n",
      "precision:  0.9708333333333333\n",
      "recall:  0.9708333333333333\n",
      "              precision    recall  f1-score   support\n",
      "\n",
      "           0       0.92      0.95      0.94       152\n",
      "           1       0.97      0.95      0.96       246\n",
      "\n",
      "    accuracy                           0.95       398\n",
      "   macro avg       0.94      0.95      0.95       398\n",
      "weighted avg       0.95      0.95      0.95       398\n",
      "\n"
     ]
    }
   ],
   "source": [
    "print(\"accuracy: \", metrics.accuracy_score(y_test, y_pred=pred))\n",
    "print(\"precision: \", metrics.precision_score(y_test, y_pred=pred))\n",
    "print(\"recall: \", metrics.precision_score(y_test, y_pred=pred))\n",
    "print(metrics.classification_report(y_test, y_pred=pred))"
   ]
  },
  {
   "cell_type": "code",
   "execution_count": null,
   "id": "a78ee46f",
   "metadata": {},
   "outputs": [],
   "source": []
  }
 ],
 "metadata": {
  "kernelspec": {
   "display_name": "Python 3",
   "language": "python",
   "name": "python3"
  },
  "language_info": {
   "codemirror_mode": {
    "name": "ipython",
    "version": 3
   },
   "file_extension": ".py",
   "mimetype": "text/x-python",
   "name": "python",
   "nbconvert_exporter": "python",
   "pygments_lexer": "ipython3",
   "version": "3.8.8"
  }
 },
 "nbformat": 4,
 "nbformat_minor": 5
}
