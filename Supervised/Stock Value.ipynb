{
 "cells": [
  {
   "cell_type": "code",
   "execution_count": 4,
   "id": "ec04af7f",
   "metadata": {},
   "outputs": [
    {
     "name": "stdout",
     "output_type": "stream",
     "text": [
      "Collecting quandl\n",
      "  Downloading Quandl-3.6.1-py2.py3-none-any.whl (26 kB)\n",
      "Requirement already satisfied: more-itertools in c:\\users\\masmb\\anaconda3\\lib\\site-packages (from quandl) (8.7.0)\n",
      "Requirement already satisfied: numpy>=1.8 in c:\\users\\masmb\\anaconda3\\lib\\site-packages (from quandl) (1.20.1)\n",
      "Requirement already satisfied: requests>=2.7.0 in c:\\users\\masmb\\anaconda3\\lib\\site-packages (from quandl) (2.25.1)\n",
      "Collecting inflection>=0.3.1\n",
      "  Downloading inflection-0.5.1-py2.py3-none-any.whl (9.5 kB)\n",
      "Requirement already satisfied: pandas>=0.14 in c:\\users\\masmb\\anaconda3\\lib\\site-packages (from quandl) (1.2.4)\n",
      "Requirement already satisfied: six in c:\\users\\masmb\\anaconda3\\lib\\site-packages (from quandl) (1.15.0)\n",
      "Requirement already satisfied: python-dateutil in c:\\users\\masmb\\anaconda3\\lib\\site-packages (from quandl) (2.8.1)\n",
      "Requirement already satisfied: pytz>=2017.3 in c:\\users\\masmb\\anaconda3\\lib\\site-packages (from pandas>=0.14->quandl) (2021.1)\n",
      "Requirement already satisfied: chardet<5,>=3.0.2 in c:\\users\\masmb\\anaconda3\\lib\\site-packages (from requests>=2.7.0->quandl) (4.0.0)\n",
      "Requirement already satisfied: certifi>=2017.4.17 in c:\\users\\masmb\\anaconda3\\lib\\site-packages (from requests>=2.7.0->quandl) (2020.12.5)\n",
      "Requirement already satisfied: urllib3<1.27,>=1.21.1 in c:\\users\\masmb\\anaconda3\\lib\\site-packages (from requests>=2.7.0->quandl) (1.26.4)\n",
      "Requirement already satisfied: idna<3,>=2.5 in c:\\users\\masmb\\anaconda3\\lib\\site-packages (from requests>=2.7.0->quandl) (2.10)\n",
      "Installing collected packages: inflection, quandl\n",
      "Successfully installed inflection-0.5.1 quandl-3.6.1\n"
     ]
    }
   ],
   "source": [
    "!pip3 install quandl"
   ]
  },
  {
   "cell_type": "code",
   "execution_count": 10,
   "id": "14b2b5c4",
   "metadata": {},
   "outputs": [],
   "source": [
    "#importing Liberaries\n",
    "import quandl, math\n",
    "import numpy as np\n",
    "import pandas as pd\n",
    "\n",
    "from sklearn import preprocessing, svm\n",
    "from sklearn.linear_model import LinearRegression\n",
    "import matplotlib.pyplot as plt\n",
    "from matplotlib import style\n",
    "import datetime\n",
    "from sklearn.model_selection import train_test_split\n",
    "style.use('ggplot')"
   ]
  },
  {
   "cell_type": "code",
   "execution_count": 11,
   "id": "de1b8ccb",
   "metadata": {},
   "outputs": [],
   "source": [
    "df = pd.read_csv('Stock Data Set.csv')"
   ]
  },
  {
   "cell_type": "code",
   "execution_count": 13,
   "id": "fcab0b5c",
   "metadata": {},
   "outputs": [
    {
     "data": {
      "text/html": [
       "<div>\n",
       "<style scoped>\n",
       "    .dataframe tbody tr th:only-of-type {\n",
       "        vertical-align: middle;\n",
       "    }\n",
       "\n",
       "    .dataframe tbody tr th {\n",
       "        vertical-align: top;\n",
       "    }\n",
       "\n",
       "    .dataframe thead th {\n",
       "        text-align: right;\n",
       "    }\n",
       "</style>\n",
       "<table border=\"1\" class=\"dataframe\">\n",
       "  <thead>\n",
       "    <tr style=\"text-align: right;\">\n",
       "      <th></th>\n",
       "      <th>Open</th>\n",
       "      <th>High</th>\n",
       "      <th>Low</th>\n",
       "      <th>Close</th>\n",
       "      <th>Volume</th>\n",
       "    </tr>\n",
       "  </thead>\n",
       "  <tbody>\n",
       "    <tr>\n",
       "      <th>0</th>\n",
       "      <td>2.2972</td>\n",
       "      <td>2.3178</td>\n",
       "      <td>2.2972</td>\n",
       "      <td>2.2972</td>\n",
       "      <td>26437</td>\n",
       "    </tr>\n",
       "    <tr>\n",
       "      <th>1</th>\n",
       "      <td>2.2972</td>\n",
       "      <td>2.2972</td>\n",
       "      <td>2.2544</td>\n",
       "      <td>2.2759</td>\n",
       "      <td>29887</td>\n",
       "    </tr>\n",
       "    <tr>\n",
       "      <th>2</th>\n",
       "      <td>2.2759</td>\n",
       "      <td>2.2759</td>\n",
       "      <td>2.2342</td>\n",
       "      <td>2.2342</td>\n",
       "      <td>106900</td>\n",
       "    </tr>\n",
       "    <tr>\n",
       "      <th>3</th>\n",
       "      <td>2.2342</td>\n",
       "      <td>2.2342</td>\n",
       "      <td>2.2342</td>\n",
       "      <td>2.2342</td>\n",
       "      <td>85061</td>\n",
       "    </tr>\n",
       "    <tr>\n",
       "      <th>4</th>\n",
       "      <td>2.2342</td>\n",
       "      <td>2.2342</td>\n",
       "      <td>2.2139</td>\n",
       "      <td>2.2139</td>\n",
       "      <td>66669</td>\n",
       "    </tr>\n",
       "  </tbody>\n",
       "</table>\n",
       "</div>"
      ],
      "text/plain": [
       "     Open    High     Low   Close  Volume\n",
       "0  2.2972  2.3178  2.2972  2.2972   26437\n",
       "1  2.2972  2.2972  2.2544  2.2759   29887\n",
       "2  2.2759  2.2759  2.2342  2.2342  106900\n",
       "3  2.2342  2.2342  2.2342  2.2342   85061\n",
       "4  2.2342  2.2342  2.2139  2.2139   66669"
      ]
     },
     "execution_count": 13,
     "metadata": {},
     "output_type": "execute_result"
    }
   ],
   "source": [
    "df = df[['Open', 'High', 'Low', 'Close', 'Volume']]\n",
    "df.head()"
   ]
  },
  {
   "cell_type": "code",
   "execution_count": 24,
   "id": "bb3074da",
   "metadata": {},
   "outputs": [],
   "source": [
    "df['HighLow_PCT'] = (df['High']-df['Low'] )/df['Close']*100.0\n",
    "df['Change_PCT'] = (df['Close']-df['Open'] )/df['Open']*100.0\n",
    "df = df[['Close', 'HighLow_PCT', 'Change_PCT', 'Volume']]"
   ]
  },
  {
   "cell_type": "code",
   "execution_count": 25,
   "id": "a4d501ed",
   "metadata": {},
   "outputs": [
    {
     "data": {
      "text/html": [
       "<div>\n",
       "<style scoped>\n",
       "    .dataframe tbody tr th:only-of-type {\n",
       "        vertical-align: middle;\n",
       "    }\n",
       "\n",
       "    .dataframe tbody tr th {\n",
       "        vertical-align: top;\n",
       "    }\n",
       "\n",
       "    .dataframe thead th {\n",
       "        text-align: right;\n",
       "    }\n",
       "</style>\n",
       "<table border=\"1\" class=\"dataframe\">\n",
       "  <thead>\n",
       "    <tr style=\"text-align: right;\">\n",
       "      <th></th>\n",
       "      <th>Close</th>\n",
       "      <th>HighLow_PCT</th>\n",
       "      <th>Change_PCT</th>\n",
       "      <th>Volume</th>\n",
       "    </tr>\n",
       "  </thead>\n",
       "  <tbody>\n",
       "    <tr>\n",
       "      <th>0</th>\n",
       "      <td>2.2972</td>\n",
       "      <td>0.896744</td>\n",
       "      <td>0.000000</td>\n",
       "      <td>26437</td>\n",
       "    </tr>\n",
       "    <tr>\n",
       "      <th>1</th>\n",
       "      <td>2.2759</td>\n",
       "      <td>1.880575</td>\n",
       "      <td>-0.927216</td>\n",
       "      <td>29887</td>\n",
       "    </tr>\n",
       "    <tr>\n",
       "      <th>2</th>\n",
       "      <td>2.2342</td>\n",
       "      <td>1.866440</td>\n",
       "      <td>-1.832242</td>\n",
       "      <td>106900</td>\n",
       "    </tr>\n",
       "    <tr>\n",
       "      <th>3</th>\n",
       "      <td>2.2342</td>\n",
       "      <td>0.000000</td>\n",
       "      <td>0.000000</td>\n",
       "      <td>85061</td>\n",
       "    </tr>\n",
       "    <tr>\n",
       "      <th>4</th>\n",
       "      <td>2.2139</td>\n",
       "      <td>0.916934</td>\n",
       "      <td>-0.908603</td>\n",
       "      <td>66669</td>\n",
       "    </tr>\n",
       "  </tbody>\n",
       "</table>\n",
       "</div>"
      ],
      "text/plain": [
       "    Close  HighLow_PCT  Change_PCT  Volume\n",
       "0  2.2972     0.896744    0.000000   26437\n",
       "1  2.2759     1.880575   -0.927216   29887\n",
       "2  2.2342     1.866440   -1.832242  106900\n",
       "3  2.2342     0.000000    0.000000   85061\n",
       "4  2.2139     0.916934   -0.908603   66669"
      ]
     },
     "execution_count": 25,
     "metadata": {},
     "output_type": "execute_result"
    }
   ],
   "source": [
    "df.head()"
   ]
  },
  {
   "cell_type": "code",
   "execution_count": 26,
   "id": "3451aba7",
   "metadata": {},
   "outputs": [],
   "source": [
    "pre_col = 'Close'\n",
    "df.fillna(value=-99999, inplace= True)"
   ]
  },
  {
   "cell_type": "code",
   "execution_count": 27,
   "id": "1be20b87",
   "metadata": {},
   "outputs": [],
   "source": [
    "pre_out = int(math.ceil(0.0025*len(df)))"
   ]
  },
  {
   "cell_type": "code",
   "execution_count": 28,
   "id": "ebf764dd",
   "metadata": {},
   "outputs": [],
   "source": [
    "df['label'] = df[pre_col].shift(-pre_out)\n",
    "df.dropna(inplace = True)"
   ]
  },
  {
   "cell_type": "code",
   "execution_count": 29,
   "id": "0b128bce",
   "metadata": {},
   "outputs": [],
   "source": [
    "x = np.array(df.drop(['label'], 1))\n",
    "y = np.array(df['label'])"
   ]
  },
  {
   "cell_type": "code",
   "execution_count": 41,
   "id": "07a29758",
   "metadata": {},
   "outputs": [],
   "source": [
    "#data normalization\n",
    "\n",
    "x = preprocessing.scale(x)\n",
    "y = np.array(df['label'])\n",
    "x_train, x_test, y_train, y_test = train_test_split(x,y,test_size=0.3)"
   ]
  },
  {
   "cell_type": "code",
   "execution_count": 42,
   "id": "73094bc4",
   "metadata": {},
   "outputs": [
    {
     "data": {
      "text/plain": [
       "LinearRegression(n_jobs=-1)"
      ]
     },
     "execution_count": 42,
     "metadata": {},
     "output_type": "execute_result"
    }
   ],
   "source": [
    "clf = LinearRegression(n_jobs=-1)\n",
    "clf.fit(x_train, y_train)"
   ]
  },
  {
   "cell_type": "code",
   "execution_count": 43,
   "id": "3171db19",
   "metadata": {},
   "outputs": [
    {
     "name": "stdout",
     "output_type": "stream",
     "text": [
      "0.9668103181224853\n"
     ]
    }
   ],
   "source": [
    "confidence = clf.score(x_test, y_test)\n",
    "print(confidence)"
   ]
  },
  {
   "cell_type": "code",
   "execution_count": 44,
   "id": "e45964b5",
   "metadata": {},
   "outputs": [],
   "source": [
    "#pridiction\n",
    "\n",
    "x_lately = x[-pre_out:]\n",
    "df.dropna(inplace=True)\n",
    "y = np.array(df['label'])"
   ]
  },
  {
   "cell_type": "code",
   "execution_count": 50,
   "id": "3fda4d81",
   "metadata": {},
   "outputs": [],
   "source": [
    "x_train, x_test, y_train, y_test = train_test_split(x,y,test_size=0.3)\n",
    "clf = LinearRegression(n_jobs=-1)\n",
    "clf.fit(x_train, y_train)\n",
    "confidence = clf.score(x_test, y_test)\n",
    "\n",
    "#forecast\n",
    "\n",
    "forecast_set = clf.predict(x_lately)\n",
    "df['Forecast'] = np.nan\n",
    "\n",
    "last_date = df.iloc[-1].name\n"
   ]
  },
  {
   "cell_type": "code",
   "execution_count": 51,
   "id": "15a9de1f",
   "metadata": {},
   "outputs": [],
   "source": [
    "one_day = 86400\n",
    "next_unix = last_date+one_day\n",
    "\n",
    "for i in forecast_set:\n",
    "    next_date = datetime.datetime.fromtimestamp(next_unix)\n",
    "    next_unix += 86400\n",
    "    df.loc[next_date] = [np.nan for _ in range(len(df.columns)-1)]+[i]"
   ]
  },
  {
   "cell_type": "code",
   "execution_count": 56,
   "id": "cfbd3117",
   "metadata": {},
   "outputs": [
    {
     "data": {
      "image/png": "[encoded data removed]",
      "text/plain": [
       "<Figure size 432x288 with 1 Axes>"
      ]
     },
     "metadata": {},
     "output_type": "display_data"
    }
   ],
   "source": [
    "df['Close'].plot()\n",
    "df['Forecast'].plot()\n",
    "plt.legend(loc=4)\n",
    "plt.xlabel(\"Date\")\n",
    "plt.ylabel('Price')\n",
    "plt.show()"
   ]
  },
  {
   "cell_type": "code",
   "execution_count": null,
   "id": "5de4e98e",
   "metadata": {},
   "outputs": [],
   "source": []
  }
 ],
 "metadata": {
  "kernelspec": {
   "display_name": "Python 3",
   "language": "python",
   "name": "python3"
  },
  "language_info": {
   "codemirror_mode": {
    "name": "ipython",
    "version": 3
   },
   "file_extension": ".py",
   "mimetype": "text/x-python",
   "name": "python",
   "nbconvert_exporter": "python",
   "pygments_lexer": "ipython3",
   "version": "3.8.8"
  }
 },
 "nbformat": 4,
 "nbformat_minor": 5
}
