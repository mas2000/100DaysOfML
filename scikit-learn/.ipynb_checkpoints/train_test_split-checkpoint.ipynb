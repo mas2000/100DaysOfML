{
 "cells": [
  {
   "cell_type": "markdown",
   "id": "31852135",
   "metadata": {},
   "source": [
    "# Test_train_split"
   ]
  },
  {
   "cell_type": "markdown",
   "id": "4f84e8e2",
   "metadata": {},
   "source": [
    "1. Split the data in to two pieces the:\n",
    "    -> the training set \n",
    "    -> the testing set \n",
    "    Typically about hte 75% of the data goes to your training set and 25% goes to your test set\n",
    "\n",
    "2. Train the model on the training set\n",
    "3. Test the model on the testing set and evaluate the performance.\n",
    "    "
   ]
  }
 ],
 "metadata": {
  "kernelspec": {
   "display_name": "Python 3",
   "language": "python",
   "name": "python3"
  },
  "language_info": {
   "codemirror_mode": {
    "name": "ipython",
    "version": 3
   },
   "file_extension": ".py",
   "mimetype": "text/x-python",
   "name": "python",
   "nbconvert_exporter": "python",
   "pygments_lexer": "ipython3",
   "version": "3.8.8"
  }
 },
 "nbformat": 4,
 "nbformat_minor": 5
}
