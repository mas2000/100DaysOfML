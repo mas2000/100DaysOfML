{
 "cells": [
  {
   "cell_type": "markdown",
   "id": "5f5e8478",
   "metadata": {},
   "source": [
    "# Import Liberaries"
   ]
  },
  {
   "cell_type": "code",
   "execution_count": 1,
   "id": "947526fc",
   "metadata": {},
   "outputs": [],
   "source": [
    "%matplotlib inline\n",
    "import matplotlib.pyplot as plt\n",
    "import pandas as pd\n",
    "\n",
    "from sklearn.model_selection import train_test_split\n",
    "from sklearn.linear_model import LinearRegression"
   ]
  },
  {
   "cell_type": "markdown",
   "id": "4268a27b",
   "metadata": {},
   "source": [
    "## Load the DataSet "
   ]
  },
  {
   "cell_type": "code",
   "execution_count": 2,
   "id": "ea88d739",
   "metadata": {},
   "outputs": [
    {
     "data": {
      "text/html": [
       "<div>\n",
       "<style scoped>\n",
       "    .dataframe tbody tr th:only-of-type {\n",
       "        vertical-align: middle;\n",
       "    }\n",
       "\n",
       "    .dataframe tbody tr th {\n",
       "        vertical-align: top;\n",
       "    }\n",
       "\n",
       "    .dataframe thead th {\n",
       "        text-align: right;\n",
       "    }\n",
       "</style>\n",
       "<table border=\"1\" class=\"dataframe\">\n",
       "  <thead>\n",
       "    <tr style=\"text-align: right;\">\n",
       "      <th></th>\n",
       "      <th>x</th>\n",
       "      <th>y</th>\n",
       "    </tr>\n",
       "  </thead>\n",
       "  <tbody>\n",
       "    <tr>\n",
       "      <th>0</th>\n",
       "      <td>0.000000</td>\n",
       "      <td>-51.000000</td>\n",
       "    </tr>\n",
       "    <tr>\n",
       "      <th>1</th>\n",
       "      <td>25.000000</td>\n",
       "      <td>-12.000000</td>\n",
       "    </tr>\n",
       "    <tr>\n",
       "      <th>2</th>\n",
       "      <td>117.583220</td>\n",
       "      <td>134.907414</td>\n",
       "    </tr>\n",
       "    <tr>\n",
       "      <th>3</th>\n",
       "      <td>108.922466</td>\n",
       "      <td>134.085180</td>\n",
       "    </tr>\n",
       "    <tr>\n",
       "      <th>4</th>\n",
       "      <td>69.887445</td>\n",
       "      <td>NaN</td>\n",
       "    </tr>\n",
       "  </tbody>\n",
       "</table>\n",
       "</div>"
      ],
      "text/plain": [
       "            x           y\n",
       "0    0.000000  -51.000000\n",
       "1   25.000000  -12.000000\n",
       "2  117.583220  134.907414\n",
       "3  108.922466  134.085180\n",
       "4   69.887445         NaN"
      ]
     },
     "execution_count": 2,
     "metadata": {},
     "output_type": "execute_result"
    }
   ],
   "source": [
    "df = pd.read_csv(\"data/linear.csv\")\n",
    "df.head()"
   ]
  },
  {
   "cell_type": "markdown",
   "id": "1fa8e482",
   "metadata": {},
   "source": [
    "## Removing Missing / Impute Values"
   ]
  },
  {
   "cell_type": "code",
   "execution_count": 3,
   "id": "9fa5dbb2",
   "metadata": {},
   "outputs": [
    {
     "data": {
      "text/plain": [
       "(102, 2)"
      ]
     },
     "execution_count": 3,
     "metadata": {},
     "output_type": "execute_result"
    }
   ],
   "source": [
    "#shape of dataframe\n",
    "df.shape"
   ]
  },
  {
   "cell_type": "code",
   "execution_count": 4,
   "id": "094471b9",
   "metadata": {},
   "outputs": [
    {
     "data": {
      "text/plain": [
       "x    0\n",
       "y    8\n",
       "dtype: int64"
      ]
     },
     "execution_count": 4,
     "metadata": {},
     "output_type": "execute_result"
    }
   ],
   "source": [
    "#missing values in hte y colun which is wht we will predict\n",
    "df.isnull().sum()"
   ]
  },
  {
   "cell_type": "markdown",
   "id": "cdb8e355",
   "metadata": {},
   "source": [
    "we can remove either row of missing values or fill the missing values"
   ]
  },
  {
   "cell_type": "code",
   "execution_count": 5,
   "id": "0beecf0d",
   "metadata": {},
   "outputs": [],
   "source": [
    "#Remove entire row from datafram if contains nans in them or 'all'\n",
    "#but here is not the best strategy \n",
    "\n",
    "df = df.dropna(how = 'any')\n"
   ]
  },
  {
   "cell_type": "code",
   "execution_count": 6,
   "id": "e13e7ff9",
   "metadata": {},
   "outputs": [
    {
     "data": {
      "text/plain": [
       "x    0\n",
       "y    0\n",
       "dtype: int64"
      ]
     },
     "execution_count": 6,
     "metadata": {},
     "output_type": "execute_result"
    }
   ],
   "source": [
    "df.isnull().sum()"
   ]
  },
  {
   "cell_type": "code",
   "execution_count": 7,
   "id": "0a8cc2b7",
   "metadata": {},
   "outputs": [
    {
     "data": {
      "text/plain": [
       "(94, 2)"
      ]
     },
     "execution_count": 7,
     "metadata": {},
     "output_type": "execute_result"
    }
   ],
   "source": [
    "df.shape"
   ]
  },
  {
   "cell_type": "markdown",
   "id": "154a585f",
   "metadata": {},
   "source": [
    "## Arrange data into feature matrix & target Vector "
   ]
  },
  {
   "cell_type": "code",
   "execution_count": 21,
   "id": "91d93fdb",
   "metadata": {},
   "outputs": [],
   "source": [
    "x = df.loc[:, ['x']].values"
   ]
  },
  {
   "cell_type": "code",
   "execution_count": 22,
   "id": "52dd7402",
   "metadata": {},
   "outputs": [
    {
     "data": {
      "text/plain": [
       "(94, 1)"
      ]
     },
     "execution_count": 22,
     "metadata": {},
     "output_type": "execute_result"
    }
   ],
   "source": [
    "x.shape"
   ]
  },
  {
   "cell_type": "code",
   "execution_count": 23,
   "id": "6f04076d",
   "metadata": {},
   "outputs": [],
   "source": [
    "y = df.loc[:, 'y'].values"
   ]
  },
  {
   "cell_type": "markdown",
   "id": "5d345f68",
   "metadata": {},
   "source": [
    "## Linear Regression"
   ]
  },
  {
   "cell_type": "markdown",
   "id": "dd34ff4c",
   "metadata": {},
   "source": [
    "#### Step 1 import model "
   ]
  },
  {
   "cell_type": "markdown",
   "id": "1fade81b",
   "metadata": {},
   "source": [
    "already imported in notebook so moving towards making instance "
   ]
  },
  {
   "cell_type": "markdown",
   "id": "6f1dfaf1",
   "metadata": {},
   "source": [
    "#### Step 2 Make an instance of Model"
   ]
  },
  {
   "cell_type": "code",
   "execution_count": 24,
   "id": "492f7f7a",
   "metadata": {},
   "outputs": [],
   "source": [
    "reg = LinearRegression(fit_intercept= True)"
   ]
  },
  {
   "cell_type": "markdown",
   "id": "f58cef78",
   "metadata": {},
   "source": [
    "#### Training the Model "
   ]
  },
  {
   "cell_type": "code",
   "execution_count": 25,
   "id": "f8649868",
   "metadata": {},
   "outputs": [
    {
     "data": {
      "text/plain": [
       "LinearRegression()"
      ]
     },
     "execution_count": 25,
     "metadata": {},
     "output_type": "execute_result"
    }
   ],
   "source": [
    "reg.fit(x,y)"
   ]
  },
  {
   "cell_type": "markdown",
   "id": "5db68844",
   "metadata": {},
   "source": [
    "#### Step 4 train"
   ]
  },
  {
   "cell_type": "code",
   "execution_count": 27,
   "id": "a5245951",
   "metadata": {},
   "outputs": [
    {
     "data": {
      "text/plain": [
       "array([-50.99119328])"
      ]
     },
     "execution_count": 27,
     "metadata": {},
     "output_type": "execute_result"
    }
   ],
   "source": [
    "reg.predict(x[0].reshape(-1,1))"
   ]
  },
  {
   "cell_type": "code",
   "execution_count": 28,
   "id": "74f57005",
   "metadata": {},
   "outputs": [
    {
     "data": {
      "text/plain": [
       "array([-50.99119328, -11.39905237, 135.223663  , 121.50775193,\n",
       "       102.37289634,  31.0056196 ,   4.46431068,  74.84474012,\n",
       "        20.82088826,  72.16749711])"
      ]
     },
     "execution_count": 28,
     "metadata": {},
     "output_type": "execute_result"
    }
   ],
   "source": [
    "reg.predict(x[0:10])"
   ]
  },
  {
   "cell_type": "markdown",
   "id": "622c2745",
   "metadata": {},
   "source": [
    "## Measuring the performance"
   ]
  },
  {
   "cell_type": "code",
   "execution_count": 29,
   "id": "b55f1fa3",
   "metadata": {},
   "outputs": [
    {
     "name": "stdout",
     "output_type": "stream",
     "text": [
      "0.979881836115762\n"
     ]
    }
   ],
   "source": [
    "score = reg.score(x, y)\n",
    "print(score)"
   ]
  },
  {
   "cell_type": "code",
   "execution_count": 30,
   "id": "3d6e3bc1",
   "metadata": {},
   "outputs": [
    {
     "data": {
      "text/plain": [
       "array([1.58368564])"
      ]
     },
     "execution_count": 30,
     "metadata": {},
     "output_type": "execute_result"
    }
   ],
   "source": [
    "# coef\n",
    "reg.coef_"
   ]
  },
  {
   "cell_type": "code",
   "execution_count": 32,
   "id": "1a1e00f9",
   "metadata": {},
   "outputs": [
    {
     "data": {
      "text/plain": [
       "-50.99119328333397"
      ]
     },
     "execution_count": 32,
     "metadata": {},
     "output_type": "execute_result"
    }
   ],
   "source": [
    "#intercept\n",
    "reg.intercept_"
   ]
  },
  {
   "cell_type": "code",
   "execution_count": 36,
   "id": "01dbd688",
   "metadata": {},
   "outputs": [
    {
     "name": "stdout",
     "output_type": "stream",
     "text": [
      "formula : y =1.58x + -50.99\n"
     ]
    }
   ],
   "source": [
    "m = reg.coef_[0]\n",
    "b = reg.intercept_\n",
    "\n",
    "#here is slope intercept form \n",
    "print(\"formula : y ={:.2f}x + {:.2f}\".format(m,b))"
   ]
  },
  {
   "cell_type": "markdown",
   "id": "e31cd68b",
   "metadata": {},
   "source": [
    "## Plotting the best fit linear regression line in the red"
   ]
  },
  {
   "cell_type": "code",
   "execution_count": 38,
   "id": "c5893e90",
   "metadata": {},
   "outputs": [
    {
     "data": {
      "image/png": "[encoded data removed]",
      "text/plain": [
       "<Figure size 720x504 with 1 Axes>"
      ]
     },
     "metadata": {
      "needs_background": "light"
     },
     "output_type": "display_data"
    }
   ],
   "source": [
    "fig, ax = plt.subplots(nrows = 1, ncols = 1, figsize = (10,7) )\n",
    "ax.scatter(x,y,color='black')\n",
    "ax.plot(x, reg.predict(x), color='red', linewidth= 3)\n",
    "ax.grid(True,\n",
    "       axis = 'both',\n",
    "       zorder = 0,\n",
    "        linestyle = ':',\n",
    "        color = 'k')\n",
    "ax.tick_params(labelsize = 10)\n",
    "ax.set_xlabel('x', fontsize = 22)\n",
    "ax.set_ylabel('y', fontsize = 22)\n",
    "ax.set_title(\"Linear Regression line with the intercept y = {:.2f}x + {:.2f}(R2 = {:.2f})\".format(m, b, score), fontsize = 24)\n",
    "fig.tight_layout()"
   ]
  },
  {
   "cell_type": "code",
   "execution_count": null,
   "id": "de6198eb",
   "metadata": {},
   "outputs": [],
   "source": []
  }
 ],
 "metadata": {
  "kernelspec": {
   "display_name": "Python 3",
   "language": "python",
   "name": "python3"
  },
  "language_info": {
   "codemirror_mode": {
    "name": "ipython",
    "version": 3
   },
   "file_extension": ".py",
   "mimetype": "text/x-python",
   "name": "python",
   "nbconvert_exporter": "python",
   "pygments_lexer": "ipython3",
   "version": "3.8.8"
  }
 },
 "nbformat": 4,
 "nbformat_minor": 5
}
