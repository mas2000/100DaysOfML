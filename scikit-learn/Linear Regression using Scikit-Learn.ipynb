{
 "cells": [
  {
   "cell_type": "markdown",
   "id": "0c22da52",
   "metadata": {},
   "source": [
    "# Import Liberaries"
   ]
  },
  {
   "cell_type": "code",
   "execution_count": 1,
   "id": "a5d2b2ab",
   "metadata": {},
   "outputs": [],
   "source": [
    "%matplotlib inline\n",
    "import matplotlib.pyplot as plt\n",
    "import pandas as pd\n",
    "\n",
    "from sklearn.model_selection import train_test_split\n",
    "from sklearn.linear_model import LinearRegression"
   ]
  },
  {
   "cell_type": "markdown",
   "id": "8d094406",
   "metadata": {},
   "source": [
    "## Load the DataSet "
   ]
  },
  {
   "cell_type": "code",
   "execution_count": null,
   "id": "dbdfba9d",
   "metadata": {},
   "outputs": [],
   "source": []
  }
 ],
 "metadata": {
  "kernelspec": {
   "display_name": "Python 3",
   "language": "python",
   "name": "python3"
  },
  "language_info": {
   "codemirror_mode": {
    "name": "ipython",
    "version": 3
   },
   "file_extension": ".py",
   "mimetype": "text/x-python",
   "name": "python",
   "nbconvert_exporter": "python",
   "pygments_lexer": "ipython3",
   "version": "3.8.8"
  }
 },
 "nbformat": 4,
 "nbformat_minor": 5
}
